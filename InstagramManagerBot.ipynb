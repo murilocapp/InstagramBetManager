{
 "cells": [
  {
   "cell_type": "code",
   "execution_count": null,
   "metadata": {},
   "outputs": [],
   "source": [
    "import instaloader\n",
    "import pandas as pd\n",
    "import unidecode\n",
    "import re\n",
    "import getpass\n",
    "import os"
   ]
  },
  {
   "cell_type": "markdown",
   "metadata": {},
   "source": [
    "# Zona Formatada"
   ]
  },
  {
   "cell_type": "code",
   "execution_count": null,
   "metadata": {},
   "outputs": [],
   "source": [
    "def get_comments(post_shortcode, L) -> pd.DataFrame:\n",
    "    post = instaloader.Post.from_shortcode(L.context, post_shortcode)\n",
    "\n",
    "    comments = []\n",
    "    for comment in post.get_comments():\n",
    "        comment_data = {\n",
    "            'username': comment.owner.username,\n",
    "            'comment': comment.text,\n",
    "            'comment_date': comment.created_at_utc,\n",
    "            'shortcode': post_shortcode,\n",
    "            'post_date': post.date\n",
    "        }\n",
    "        comments.append(comment_data)\n",
    "    return pd.DataFrame(comments)"
   ]
  },
  {
   "cell_type": "markdown",
   "metadata": {},
   "source": [
    "# Zona Transformada"
   ]
  },
  {
   "cell_type": "code",
   "execution_count": null,
   "metadata": {},
   "outputs": [],
   "source": [
    "def extract_bet(comment: str) -> str:\n",
    "    pattern = r\"(\\d+\\s*x\\s*\\d+)\\s*(\\w+)\"\n",
    "    match = re.search(pattern, comment)\n",
    "    if match:\n",
    "        return f\"{match.group(1).replace(' ', '')} {match.group(2)}\"\n",
    "    else:\n",
    "        return None\n",
    "\n",
    "def normalize_string(s: str) -> str:\n",
    "    if isinstance(s, str):\n",
    "        return unidecode.unidecode(s).lower()\n",
    "    return s\n",
    "\n",
    "def split_numbers_text(s: str):\n",
    "    if not isinstance(s, str):\n",
    "        return '', ''\n",
    "    numbers = re.findall(r'\\d+', s)\n",
    "    numbers = ''.join(numbers)\n",
    "    text = re.sub(r'\\d+', '', s).strip()\n",
    "    text = normalize_string(text)\n",
    "    return numbers, text\n",
    "\n",
    "def combine_components(numbers: str, text: str) -> str:\n",
    "    return f\"{numbers} {text}\".strip()\n",
    "\n",
    "def validate_bet(row: pd.Series, bet_column=\"bet\", result_column=\"result\", comment_column=\"comment\") -> bool:\n",
    "    bet = row[bet_column]\n",
    "    expected_result = row[result_column]\n",
    "    comment = row[comment_column]\n",
    "\n",
    "    if bet is None:\n",
    "        comment_numbers, comment_text = split_numbers_text(comment)\n",
    "        result_numbers, result_text = split_numbers_text(expected_result)\n",
    "        normalized_comment = combine_components(comment_numbers, comment_text)\n",
    "        normalized_result = combine_components(result_numbers, result_text)\n",
    "        return normalized_comment == normalized_result\n",
    "    else:\n",
    "        bet_numbers, bet_text = split_numbers_text(bet)\n",
    "        result_numbers, result_text = split_numbers_text(expected_result)\n",
    "        normalized_bet = combine_components(bet_numbers, bet_text)\n",
    "        normalized_result = combine_components(result_numbers, result_text)\n",
    "        return normalized_bet == normalized_result"
   ]
  },
  {
   "cell_type": "markdown",
   "metadata": {},
   "source": [
    "# Main"
   ]
  },
  {
   "cell_type": "markdown",
   "metadata": {},
   "source": [
    "## Ingestão"
   ]
  },
  {
   "cell_type": "code",
   "execution_count": null,
   "metadata": {},
   "outputs": [],
   "source": [
    "if __name__ == \"__main__\":\n",
    "    data = pd.DataFrame()\n",
    "\n",
    "    username = input(\"Enter your Instagram username: \")\n",
    "    password = getpass.getpass(\"Enter your Instagram password: \")\n",
    "\n",
    "    L = instaloader.Instaloader()\n",
    "    L.login(username, password)\n",
    "\n",
    "    input_data = pd.read_csv('input.csv')\n",
    "\n",
    "    try:\n",
    "        # Loop through each day and collect all comments\n",
    "        for day in input_data[\"Day\"].unique():\n",
    "            input_temp = input_data[input_data[\"Day\"] == day]\n",
    "            shortcodes = input_temp['shortcode']\n",
    "            for post in shortcodes:\n",
    "                comments = get_comments(post, L)\n",
    "                data = pd.concat([data, comments], ignore_index=True)\n",
    "\n",
    "    except Exception as e:\n",
    "        print(f\"An error occurred: {e}\")\n",
    "        print(\"Saving progress before exiting...\")\n",
    "        if not data.empty:\n",
    "            data.to_csv(f\"data_all_days_progress.csv\", index=False)\n",
    "        raise\n",
    "\n",
    "    # Save final data after completing the loop\n",
    "    data.to_csv(f\"data_all_days.csv\", index=False)"
   ]
  },
  {
   "cell_type": "markdown",
   "metadata": {},
   "source": [
    "# Transformação\n"
   ]
  },
  {
   "cell_type": "code",
   "execution_count": null,
   "metadata": {},
   "outputs": [],
   "source": [
    " df = data.merge(input_data, on='shortcode', how='left')\n",
    "    df['bet'] = df['comment'].apply(extract_bet)\n",
    "    df['bet_result'] = df.apply(validate_bet, axis=1)\n",
    "    df.drop_duplicates(inplace=True)\n",
    "    df.to_csv('data.csv', index=False)\n",
    "    df"
   ]
  },
  {
   "cell_type": "markdown",
   "metadata": {},
   "source": [
    "# Tabela"
   ]
  },
  {
   "cell_type": "code",
   "execution_count": null,
   "metadata": {},
   "outputs": [],
   "source": [
    "leaderboard = df.groupby('username')['bet_result'].apply(lambda x: x[x == True].count()).reset_index(name='score')\n",
    "    leaderboard = leaderboard.sort_values(by='score', ascending=False).reset_index(drop=True)\n",
    "    leaderboard.to_csv('leaderboard.csv', index=False)\n",
    "    leaderboard\n"
   ]
  }
 ],
 "metadata": {
  "language_info": {
   "name": "python"
  }
 },
 "nbformat": 4,
 "nbformat_minor": 2
}
